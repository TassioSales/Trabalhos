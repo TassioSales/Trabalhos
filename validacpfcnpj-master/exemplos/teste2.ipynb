{
 "cells": [
  {
   "cell_type": "code",
   "execution_count": 6,
   "outputs": [
    {
     "ename": "ModuleNotFoundError",
     "evalue": "No module named 'validacpfcnpj'",
     "output_type": "error",
     "traceback": [
      "\u001B[1;31m---------------------------------------------------------------------------\u001B[0m",
      "\u001B[1;31mModuleNotFoundError\u001B[0m                       Traceback (most recent call last)",
      "\u001B[1;32m<ipython-input-6-d9edd9d12290>\u001B[0m in \u001B[0;36m<module>\u001B[1;34m\u001B[0m\n\u001B[0;32m      1\u001B[0m \u001B[1;32mimport\u001B[0m \u001B[0msys\u001B[0m\u001B[1;33m\u001B[0m\u001B[1;33m\u001B[0m\u001B[0m\n\u001B[0;32m      2\u001B[0m \u001B[1;32mimport\u001B[0m \u001B[0mos\u001B[0m\u001B[1;33m.\u001B[0m\u001B[0mpath\u001B[0m\u001B[1;33m\u001B[0m\u001B[1;33m\u001B[0m\u001B[0m\n\u001B[1;32m----> 3\u001B[1;33m \u001B[1;32mimport\u001B[0m \u001B[0mvalidacpfcnpj\u001B[0m\u001B[1;33m\u001B[0m\u001B[1;33m\u001B[0m\u001B[0m\n\u001B[0m\u001B[0;32m      4\u001B[0m \u001B[1;33m\u001B[0m\u001B[0m\n\u001B[0;32m      5\u001B[0m \u001B[1;32mimport\u001B[0m \u001B[0mpandas\u001B[0m \u001B[1;32mas\u001B[0m \u001B[0mpd\u001B[0m\u001B[1;33m\u001B[0m\u001B[1;33m\u001B[0m\u001B[0m\n",
      "\u001B[1;31mModuleNotFoundError\u001B[0m: No module named 'validacpfcnpj'"
     ]
    }
   ],
   "source": [
    "import sys\n",
    "import os.path\n",
    "import validacpfcnpj\n",
    "\n",
    "import pandas as pd\n"
   ],
   "metadata": {
    "collapsed": false,
    "pycharm": {
     "name": "#%%\n"
    }
   }
  },
  {
   "cell_type": "code",
   "execution_count": 4,
   "outputs": [
    {
     "name": "stdout",
     "output_type": "stream",
     "text": [
      "             01515007\n",
      "0            04826893\n",
      "1            32733180\n",
      "2            14047219\n",
      "3            01501796\n",
      "4            13172416\n",
      "..                ...\n",
      "123           4820572\n",
      "124            593132\n",
      "125           9008053\n",
      "126           7744026\n",
      "127  8686217000244618\n",
      "\n",
      "[128 rows x 1 columns]\n"
     ]
    }
   ],
   "source": [
    "data = pd.read_fwf(\"estagiario.txt\")\n",
    "print(data)\n"
   ],
   "metadata": {
    "collapsed": false,
    "pycharm": {
     "name": "#%%\n"
    }
   }
  }
 ],
 "metadata": {
  "pycharm": {
   "stem_cell": {
    "cell_type": "raw",
    "source": [
     "import pandas as pd\n"
    ],
    "metadata": {
     "collapsed": false
    }
   }
  },
  "kernelspec": {
   "name": "pycharm-b83a16be",
   "language": "python",
   "display_name": "PyCharm (validacpfcnpj-master)"
  }
 },
 "nbformat": 4,
 "nbformat_minor": 4
}